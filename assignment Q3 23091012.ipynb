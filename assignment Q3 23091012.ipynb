{
 "cells": [
  {
   "cell_type": "code",
   "execution_count": 1,
   "id": "7f710224",
   "metadata": {},
   "outputs": [],
   "source": [
    "import numpy as np\n",
    "import sympy as sp"
   ]
  },
  {
   "cell_type": "code",
   "execution_count": 3,
   "id": "4282bbb1",
   "metadata": {},
   "outputs": [
    {
     "name": "stdout",
     "output_type": "stream",
     "text": [
      "U= [[-0.62022873 -0.17869049  0.69335619  0.28451816  0.14728421]\n",
      " [-0.48028758 -0.6114374  -0.49701693 -0.32605305  0.20526013]\n",
      " [-0.20129355 -0.17678468 -0.16118838  0.30809854 -0.89851081]\n",
      " [-0.2627987   0.32466975  0.25040979 -0.80964765 -0.32755461]\n",
      " [-0.52445964  0.67642497 -0.42842106  0.24956923  0.14683984]]\n",
      "S= [22.13569524 10.48509677  4.80917542  3.29345679  0.31419103]\n",
      "VT= [[-0.59418364 -0.5312117  -0.31792249 -0.27409378 -0.43423246]\n",
      " [ 0.21960172 -0.6166314   0.3921777   0.60864379 -0.21746308]\n",
      " [ 0.31274217  0.05519818  0.53579343 -0.58696177 -0.51724924]\n",
      " [ 0.19147408  0.41224729 -0.41834502  0.37026279 -0.69374545]\n",
      " [ 0.6813596  -0.40569099 -0.53201013 -0.26982712  0.12378393]]\n"
     ]
    }
   ],
   "source": [
    "#Q3\n",
    "np.random.seed(16)\n",
    "A = np.random.randint(0, 10, size=(5, 5))\n",
    "sp.Matrix(A)\n",
    "U,S,VT=np.linalg.svd(A)\n",
    "print('U=',U)\n",
    "print('S=',S)\n",
    "print(\"VT=\",VT)\n"
   ]
  },
  {
   "cell_type": "code",
   "execution_count": 4,
   "id": "4b00968c",
   "metadata": {},
   "outputs": [],
   "source": [
    "USVT = np.dot(U, np.dot(np.diag(S), VT))"
   ]
  },
  {
   "cell_type": "code",
   "execution_count": 5,
   "id": "9849fdae",
   "metadata": {},
   "outputs": [
    {
     "name": "stdout",
     "output_type": "stream",
     "text": [
      "A equals the product of USVT.\n"
     ]
    }
   ],
   "source": [
    "verification = np.allclose(USVT, A)\n",
    "\n",
    "if verification:\n",
    "    print(\"A equals the product of USVT.\")\n",
    "else:\n",
    "    print(\"A does not equal the product of USVT.\")"
   ]
  },
  {
   "cell_type": "code",
   "execution_count": null,
   "id": "7122a0a3",
   "metadata": {},
   "outputs": [],
   "source": []
  },
  {
   "cell_type": "code",
   "execution_count": null,
   "id": "b5ab2158",
   "metadata": {},
   "outputs": [],
   "source": []
  }
 ],
 "metadata": {
  "kernelspec": {
   "display_name": "Python 3 (ipykernel)",
   "language": "python",
   "name": "python3"
  },
  "language_info": {
   "codemirror_mode": {
    "name": "ipython",
    "version": 3
   },
   "file_extension": ".py",
   "mimetype": "text/x-python",
   "name": "python",
   "nbconvert_exporter": "python",
   "pygments_lexer": "ipython3",
   "version": "3.11.5"
  }
 },
 "nbformat": 4,
 "nbformat_minor": 5
}
